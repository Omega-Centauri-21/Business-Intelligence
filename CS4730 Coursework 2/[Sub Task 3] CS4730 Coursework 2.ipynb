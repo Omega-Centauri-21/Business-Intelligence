{
 "cells": [
  {
   "cell_type": "markdown",
   "metadata": {},
   "source": [
    "## Sub-task 3: Stroke risk Prediction"
   ]
  },
  {
   "cell_type": "code",
   "execution_count": 2,
   "metadata": {},
   "outputs": [
    {
     "name": "stdout",
     "output_type": "stream",
     "text": [
      "Data Points:  620\n"
     ]
    }
   ],
   "source": [
    "import pandas as pd\n",
    "from sklearn.model_selection import train_test_split\n",
    "from sklearn.linear_model import LogisticRegression\n",
    "from sklearn.tree import DecisionTreeClassifier\n",
    "from sklearn.ensemble import RandomForestClassifier\n",
    "from sklearn.metrics import accuracy_score, precision_score, recall_score, f1_score, roc_auc_score\n",
    "import matplotlib.pyplot as plt\n",
    "import seaborn as sns\n",
    "import warnings # ignore warnings\n",
    "warnings.filterwarnings('ignore')\n",
    "\n",
    "# Read the data from the CSV file\n",
    "df = pd.read_csv(r\"dataset\\Dataset_raw.csv\")\n",
    "\n",
    "# Check the number of data points in the data set\n",
    "print(\"Data Points: \", len(df))"
   ]
  },
  {
   "cell_type": "code",
   "execution_count": 3,
   "metadata": {},
   "outputs": [
    {
     "data": {
      "text/html": [
       "<div>\n",
       "<style scoped>\n",
       "    .dataframe tbody tr th:only-of-type {\n",
       "        vertical-align: middle;\n",
       "    }\n",
       "\n",
       "    .dataframe tbody tr th {\n",
       "        vertical-align: top;\n",
       "    }\n",
       "\n",
       "    .dataframe thead th {\n",
       "        text-align: right;\n",
       "    }\n",
       "</style>\n",
       "<table border=\"1\" class=\"dataframe\">\n",
       "  <thead>\n",
       "    <tr style=\"text-align: right;\">\n",
       "      <th></th>\n",
       "      <th>RANDID</th>\n",
       "      <th>TOTCHOL</th>\n",
       "      <th>AGE</th>\n",
       "      <th>SYSBP</th>\n",
       "      <th>DIABP</th>\n",
       "      <th>TIMEMI</th>\n",
       "      <th>CIGPDAY</th>\n",
       "      <th>TIME</th>\n",
       "      <th>STROKE</th>\n",
       "      <th>BMI</th>\n",
       "    </tr>\n",
       "  </thead>\n",
       "  <tbody>\n",
       "    <tr>\n",
       "      <th>0</th>\n",
       "      <td>2448</td>\n",
       "      <td>196.0</td>\n",
       "      <td>52.0</td>\n",
       "      <td>100.0</td>\n",
       "      <td>62.0</td>\n",
       "      <td>6438.0</td>\n",
       "      <td>0.0</td>\n",
       "      <td>4628</td>\n",
       "      <td>2.0</td>\n",
       "      <td>NaN</td>\n",
       "    </tr>\n",
       "    <tr>\n",
       "      <th>1</th>\n",
       "      <td>6238</td>\n",
       "      <td>223.0</td>\n",
       "      <td>58.0</td>\n",
       "      <td>122.0</td>\n",
       "      <td>75.0</td>\n",
       "      <td>8766.0</td>\n",
       "      <td>0.0</td>\n",
       "      <td>4344</td>\n",
       "      <td>2.0</td>\n",
       "      <td>28.5</td>\n",
       "    </tr>\n",
       "    <tr>\n",
       "      <th>2</th>\n",
       "      <td>11252</td>\n",
       "      <td>232.0</td>\n",
       "      <td>58.0</td>\n",
       "      <td>131.0</td>\n",
       "      <td>70.0</td>\n",
       "      <td>8766.0</td>\n",
       "      <td>0.0</td>\n",
       "      <td>4285</td>\n",
       "      <td>2.0</td>\n",
       "      <td>24.6</td>\n",
       "    </tr>\n",
       "    <tr>\n",
       "      <th>3</th>\n",
       "      <td>11263</td>\n",
       "      <td>216.0</td>\n",
       "      <td>55.0</td>\n",
       "      <td>140.0</td>\n",
       "      <td>70.0</td>\n",
       "      <td>8766.0</td>\n",
       "      <td>0.0</td>\n",
       "      <td>4351</td>\n",
       "      <td>1.0</td>\n",
       "      <td>31.2</td>\n",
       "    </tr>\n",
       "    <tr>\n",
       "      <th>4</th>\n",
       "      <td>12806</td>\n",
       "      <td>208.0</td>\n",
       "      <td>57.0</td>\n",
       "      <td>127.0</td>\n",
       "      <td>75.0</td>\n",
       "      <td>8766.0</td>\n",
       "      <td>0.0</td>\n",
       "      <td>4289</td>\n",
       "      <td>2.0</td>\n",
       "      <td>22.0</td>\n",
       "    </tr>\n",
       "  </tbody>\n",
       "</table>\n",
       "</div>"
      ],
      "text/plain": [
       "   RANDID  TOTCHOL   AGE  SYSBP  DIABP  TIMEMI  CIGPDAY  TIME  STROKE   BMI\n",
       "0    2448    196.0  52.0  100.0   62.0  6438.0      0.0  4628     2.0   NaN\n",
       "1    6238    223.0  58.0  122.0   75.0  8766.0      0.0  4344     2.0  28.5\n",
       "2   11252    232.0  58.0  131.0   70.0  8766.0      0.0  4285     2.0  24.6\n",
       "3   11263    216.0  55.0  140.0   70.0  8766.0      0.0  4351     1.0  31.2\n",
       "4   12806    208.0  57.0  127.0   75.0  8766.0      0.0  4289     2.0  22.0"
      ]
     },
     "execution_count": 3,
     "metadata": {},
     "output_type": "execute_result"
    }
   ],
   "source": [
    "df.head()"
   ]
  },
  {
   "cell_type": "code",
   "execution_count": 4,
   "metadata": {},
   "outputs": [
    {
     "data": {
      "text/plain": [
       "RANDID     0\n",
       "TOTCHOL    8\n",
       "AGE        4\n",
       "SYSBP      5\n",
       "DIABP      3\n",
       "TIMEMI     1\n",
       "CIGPDAY    2\n",
       "TIME       0\n",
       "STROKE     2\n",
       "BMI        3\n",
       "dtype: int64"
      ]
     },
     "execution_count": 4,
     "metadata": {},
     "output_type": "execute_result"
    }
   ],
   "source": [
    "df.isnull().sum()"
   ]
  },
  {
   "cell_type": "code",
   "execution_count": 5,
   "metadata": {},
   "outputs": [],
   "source": [
    "# handle missing values by dropping them\n",
    "df.dropna(inplace=True)"
   ]
  },
  {
   "cell_type": "code",
   "execution_count": 6,
   "metadata": {},
   "outputs": [],
   "source": [
    "# Select relevant features based on Article #1 linkand domain knowledge (e.g., blood pressure, cholesterol, smoking)\n",
    "selected_features = ['AGE', 'TOTCHOL', 'SYSBP', 'DIABP', 'BMI', 'CIGPDAY']\n",
    "X = df[selected_features]\n",
    "y = df['STROKE']"
   ]
  },
  {
   "cell_type": "markdown",
   "metadata": {},
   "source": [
    "### Feature Engineering\n",
    "Categorical Conversions as per article with refrence to the articles."
   ]
  },
  {
   "cell_type": "code",
   "execution_count": 7,
   "metadata": {},
   "outputs": [],
   "source": [
    "# 1. Cholesterol Categories (refer to Article #2)\n",
    "def categorize_cholesterol(chol):\n",
    "    if chol < 200:\n",
    "        return 'Normal'\n",
    "    elif chol < 240:\n",
    "        return 'Borderline High'\n",
    "    else:\n",
    "        return 'High'\n",
    "\n",
    "X['TOTCHOL_category'] = X['TOTCHOL'].apply(categorize_cholesterol)"
   ]
  },
  {
   "cell_type": "code",
   "execution_count": 8,
   "metadata": {},
   "outputs": [],
   "source": [
    "# 2. Blood Pressure Categories (refer to Article #3)\n",
    "def categorize_bp(sys, dia):\n",
    "    if sys < 120 and dia < 80:\n",
    "        return 'Normal'\n",
    "    elif sys < 130 and dia < 85:\n",
    "        return 'Elevated'\n",
    "    elif sys < 140 and dia < 90:\n",
    "        return 'High'\n",
    "    else:\n",
    "        return 'Hypertensive'\n",
    "\n",
    "X['BP_category'] = X.apply(lambda row: categorize_bp(row['SYSBP'], row['DIABP']), axis=1)"
   ]
  },
  {
   "cell_type": "code",
   "execution_count": 9,
   "metadata": {},
   "outputs": [],
   "source": [
    "# Drop original numerical features\n",
    "X.drop(columns=['TOTCHOL', 'SYSBP', 'DIABP'], inplace=True)\n",
    "\n",
    "# One-hot encode categorical features\n",
    "X = pd.get_dummies(X, columns=['TOTCHOL_category', 'BP_category'])\n",
    "\n",
    "# Split data into training and testing sets\n",
    "X_train, X_test, y_train, y_test = train_test_split(X, y, test_size=0.2, random_state=42)"
   ]
  },
  {
   "cell_type": "code",
   "execution_count": 10,
   "metadata": {},
   "outputs": [
    {
     "name": "stdout",
     "output_type": "stream",
     "text": [
      "Logistic Regression:\n",
      "Accuracy: 0.86\n",
      "Precision: 0.83\n",
      "Recall: 0.88\n",
      "F1-score: 0.85\n",
      "AUC: 0.86\n",
      "\n",
      "Decision Tree:\n",
      "Accuracy: 0.79\n",
      "Precision: 0.77\n",
      "Recall: 0.79\n",
      "F1-score: 0.78\n",
      "AUC: 0.79\n",
      "\n",
      "Random Forest:\n",
      "Accuracy: 0.85\n",
      "Precision: 0.84\n",
      "Recall: 0.84\n",
      "F1-score: 0.84\n",
      "AUC: 0.85\n"
     ]
    }
   ],
   "source": [
    "# Function to fit and assess a model\n",
    "def fit_and_assess(model):\n",
    "    model.fit(X_train, y_train)\n",
    "    predictions = model.predict(X_test)\n",
    "\n",
    "    acc = accuracy_score(y_test, predictions)\n",
    "    prec = precision_score(y_test, predictions)\n",
    "    rec = recall_score(y_test, predictions)\n",
    "    f1 = f1_score(y_test, predictions)\n",
    "    auc = roc_auc_score(y_test, predictions)\n",
    "\n",
    "    print(f\"Accuracy: {acc:.2f}\")\n",
    "    print(f\"Precision: {prec:.2f}\")\n",
    "    print(f\"Recall: {rec:.2f}\")\n",
    "    print(f\"F1-score: {f1:.2f}\")\n",
    "    print(f\"AUC: {auc:.2f}\")\n",
    "\n",
    "# Fit and assess various models\n",
    "print(\"Logistic Regression:\")\n",
    "fit_and_assess(LogisticRegression(max_iter=1000))\n",
    "\n",
    "print(\"\\nDecision Tree:\")\n",
    "fit_and_assess(DecisionTreeClassifier(random_state=42))\n",
    "\n",
    "print(\"\\nRandom Forest:\")\n",
    "fit_and_assess(RandomForestClassifier(random_state=42))"
   ]
  },
  {
   "cell_type": "code",
   "execution_count": 11,
   "metadata": {},
   "outputs": [
    {
     "name": "stdout",
     "output_type": "stream",
     "text": [
      "Accuracy: 0.85\n",
      "Precision: 0.84\n",
      "Recall: 0.84\n",
      "F1-score: 0.84\n",
      "AUC: 0.85\n"
     ]
    },
    {
     "data": {
      "image/png": "[encoded data removed]",
      "text/plain": [
       "<Figure size 1000x600 with 1 Axes>"
      ]
     },
     "metadata": {},
     "output_type": "display_data"
    }
   ],
   "source": [
    "# Visualize feature importance  \n",
    "# (Example with Random Forest)\n",
    "model = RandomForestClassifier(random_state=42)\n",
    "model.fit(X_train, y_train)\n",
    "y_pred = model.predict(X_test)\n",
    "\n",
    "accuracy = accuracy_score(y_test, y_pred)\n",
    "precision = precision_score(y_test, y_pred)\n",
    "recall = recall_score(y_test, y_pred)\n",
    "f1 = f1_score(y_test, y_pred)\n",
    "auc = roc_auc_score(y_test, y_pred)\n",
    "\n",
    "print(f\"Accuracy: {accuracy:.2f}\")\n",
    "print(f\"Precision: {precision:.2f}\")\n",
    "print(f\"Recall: {recall:.2f}\")\n",
    "print(f\"F1-score: {f1:.2f}\")\n",
    "print(f\"AUC: {auc:.2f}\")\n",
    "\n",
    "if hasattr(model, 'feature_importances_'):\n",
    "    feature_importances = pd.Series(model.feature_importances_, index=X.columns)\n",
    "    plt.figure(figsize=(10, 6))\n",
    "    sns.barplot(x=feature_importances, y=feature_importances.index)\n",
    "    plt.xlabel('Feature Importance')\n",
    "    plt.ylabel('Features')\n",
    "    plt.title('Feature Importance')\n",
    "    plt.show()"
   ]
  },
  {
   "cell_type": "markdown",
   "metadata": {},
   "source": [
    "### Stroke Risk Prediction: A Glimpse into the Deep Learning Journey\n",
    "\n",
    "This project seeks to develop a machine learning model that can predict the likelihood of stroke in patients. We aim to use over 600 cases to develop a precise tool to help healthcare professionals identify those at increased risk for stroke.\n",
    "\n",
    "#### 1. Feature Selection for a Robust Model\n",
    "\n",
    "Features form the back-bone of any predictive model. With the medical knowledge and insights gathered from the article \"Stroke Risk Factors and Prevention\" by Better Health Victoria, we chose the following significant factors as our choice:\n",
    "\n",
    "- **Age**: The risk of stroke increases with age.\n",
    "- **Blood Pressure**: Hypertension definitely increases the chances of blood vessel rupture and stroke.\n",
    "- **Cholesterol**: High cholesterol levels contribute to plaque formation, which increases the risk of stroke by constricting blood vessels.\n",
    "- **Body Mass Index (BMI)**: Obesity is associated with hypertension, diabetes, and cardiovascular disease, which are all risks for stroke.\n",
    "- **Tobacco Smoking**: Tobacco smoke damages blood vessels and increases risks for blood clots and stroke.\n",
    "\n",
    "These evidence-based medical variables form the bedrock of our predictive model.\n",
    "2. Feature Engineering\n",
    "\n",
    "There is information to be gleaned from raw counts, but categorization can better enable the model to pick out complex relationships.\n",
    "\n",
    "- **Cholesterol Categorization**: Using MedlinePlus, we categorized the cholesterol levels as \"Normal,\" \"Borderline High,\" and \"High.\"\n",
    "- **Blood Pressure Categorization**: Based on Stroke Association UK, we categorized blood pressure as \"Normal,\" \"Elevated,\" \"High,\" and \"Hypertensive.\"\n",
    "\n",
    "These enhance the interpretability of the model and capture non-linear relationships between variables and stroke risk.\n",
    "\n",
    "#### 3. Model Selection\n",
    "\n",
    "We tested a range of machine learning algorithms to identify the best model:\n",
    "\n",
    "- **Logistic Regression**: A traditional statistical model that is a baseline to compare with.\n",
    "- **Decision Tree**: A simulated model of human decision based on branching rules that are associated with the input data.\n",
    "- **Random Forest**: An ensemble method that combines multiple decision trees to improve the accuracy and avoid overfitting.\n",
    "\n",
    "This helped us to identify which model is the most effective and for what specific reason.\n",
    "\n",
    "#### 4. Evaluation and Validation of Results\n",
    "\n",
    "We have concentrated on the following key metrics for model performance evaluation:\n",
    "\n",
    "- **Accuracy**: The total proportion of correct predictions.\n",
    "- **Precision**: The proportion of true positive predictions among all positive predictions.\n",
    "- **Recall (Sensitivity)**: The proportion of true positive predictions among all actual stroke cases.\n",
    "- **Specificity**: The ratio of true negative predictions to all negative predictions.\n",
    "- **F1-score**: The harmonic mean of precision and recall.\n",
    "- **AUC (Area Under the ROC Curve)**: A measure of the model's ability to distinguish between positive and negative cases.\n",
    "\n",
    "By carefully evaluating these metrics, we ensured our model performs well for both high-risk and low-risk patients, crucial for effective clinical decision-making."
   ]
  }
 ],
 "metadata": {
  "kernelspec": {
   "display_name": "Python 3",
   "language": "python",
   "name": "python3"
  },
  "language_info": {
   "codemirror_mode": {
    "name": "ipython",
    "version": 3
   },
   "file_extension": ".py",
   "mimetype": "text/x-python",
   "name": "python",
   "nbconvert_exporter": "python",
   "pygments_lexer": "ipython3",
   "version": "3.11.9"
  }
 },
 "nbformat": 4,
 "nbformat_minor": 2
}
